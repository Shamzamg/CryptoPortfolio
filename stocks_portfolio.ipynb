{
 "metadata": {
  "language_info": {
   "codemirror_mode": {
    "name": "ipython",
    "version": 3
   },
   "file_extension": ".py",
   "mimetype": "text/x-python",
   "name": "python",
   "nbconvert_exporter": "python",
   "pygments_lexer": "ipython3",
   "version": "3.6.6-final"
  },
  "orig_nbformat": 2,
  "kernelspec": {
   "name": "python3",
   "display_name": "Python 3.6.6 64-bit",
   "metadata": {
    "interpreter": {
     "hash": "9eaeb83d9ba27d78c18e939c4722fd8cd3da11144fcd67da81373bc338578d62"
    }
   }
  }
 },
 "nbformat": 4,
 "nbformat_minor": 2,
 "cells": [
  {
   "cell_type": "code",
   "execution_count": 124,
   "metadata": {},
   "outputs": [],
   "source": [
    "#Description: This program optimizes a stock portfolio"
   ]
  },
  {
   "cell_type": "code",
   "execution_count": 125,
   "metadata": {},
   "outputs": [],
   "source": [
    "#Import the python librairies\n",
    "import pandas as pd\n",
    "import numpy as np\n",
    "from fastquant.data.crypto.crypto import get_crypto_data"
   ]
  },
  {
   "cell_type": "code",
   "execution_count": 130,
   "metadata": {},
   "outputs": [
    {
     "output_type": "stream",
     "name": "stdout",
     "text": [
      "1\n",
      "2\n",
      "3\n",
      "Symbols          LTC-USD       ETH-USD      DASH-USD       EOS-USD\n",
      "Date                                                              \n",
      "2018-01-01  6.331420e+08  2.595760e+09  1.385670e+08  3.310730e+08\n",
      "2018-01-02  1.237950e+09  5.783350e+09  2.571100e+08  5.521890e+08\n",
      "2018-01-03  3.215280e+09  5.093160e+09  1.758430e+08  5.294590e+08\n",
      "2018-01-04  3.481550e+09  6.502860e+09  2.848450e+08  1.204970e+09\n",
      "2018-01-05  1.710600e+09  6.683150e+09  2.375040e+08  6.187550e+08\n",
      "...                  ...           ...           ...           ...\n",
      "2021-02-11  9.278994e+09  3.602150e+10  2.026282e+09  7.366914e+09\n",
      "2021-02-12  1.083937e+10  3.790504e+10  1.519166e+09  7.164081e+09\n",
      "2021-02-14  1.290251e+10  3.143911e+10  3.294366e+09  7.686866e+09\n",
      "2021-02-15  1.348265e+10  3.895561e+10  5.224352e+09  8.201494e+09\n",
      "2021-02-16  1.278771e+10  3.517920e+10  5.125202e+09  7.331670e+09\n",
      "\n",
      "[1138 rows x 4 columns]\n"
     ]
    }
   ],
   "source": [
    "import pandas_datareader as pdr\n",
    "import pandas as pd\n",
    "import datetime\n",
    "import time\n",
    "\n",
    "\n",
    "mylist = ['LTC-USD', 'ETH-USD', 'DASH-USD','EOS-USD']\n",
    "\n",
    "begin = datetime.datetime(2018, 1, 1)\n",
    "end = datetime.date.today()\n",
    "param = 'Volume' #but could be 'Open', 'High', 'Low' or 'Volume'\n",
    "\n",
    "#Get the data from your personal crypto-list and chosen dates\n",
    "\n",
    "def create_data_frame(list, begin, end, param):\n",
    "\n",
    "    dataframe = pdr.get_data_yahoo([list[0]], \n",
    "                                    start=begin, \n",
    "                                    end=end)[param]\n",
    "\n",
    "    if(len(list) > 1):\n",
    "        for i in range(1, len(list)):\n",
    "            print(i)\n",
    "            dataframe[list[i]] = pdr.get_data_yahoo([list[i]], \n",
    "                                start=begin, \n",
    "                                end=end)[param]\n",
    "\n",
    "    return dataframe\n",
    "\n",
    "\n",
    "df = create_data_frame(mylist, begin, end, param)\n",
    "print(df)"
   ]
  },
  {
   "cell_type": "code",
   "execution_count": 131,
   "metadata": {},
   "outputs": [],
   "source": [
    "#Optimize the portfolio\n",
    "from pypfopt.efficient_frontier import EfficientFrontier\n",
    "from pypfopt import risk_models\n",
    "from pypfopt import expected_returns"
   ]
  },
  {
   "cell_type": "code",
   "execution_count": 132,
   "metadata": {},
   "outputs": [],
   "source": [
    "#Calculate the expected annualized returns and the annualized sample covariance matrix of the daily asset returns\n",
    "mu = expected_returns.mean_historical_return(df)\n",
    "S = risk_models.sample_cov(df)\n"
   ]
  },
  {
   "cell_type": "code",
   "execution_count": 133,
   "metadata": {},
   "outputs": [
    {
     "output_type": "stream",
     "name": "stdout",
     "text": [
      "OrderedDict([('LTC-USD', 0.46745), ('ETH-USD', 0.45718), ('DASH-USD', 0.00292), ('EOS-USD', 0.07245)])\n",
      "Expected annual return: 87.5%\n",
      "Annual volatility: 339.4%\n",
      "Sharpe Ratio: 0.25\n"
     ]
    },
    {
     "output_type": "execute_result",
     "data": {
      "text/plain": [
       "(0.8751065867702091, 3.39396908055816, 0.2519488441036656)"
      ]
     },
     "metadata": {},
     "execution_count": 133
    }
   ],
   "source": [
    "#Optimize for the maximal Sharpe ratio\n",
    "ef = EfficientFrontier(mu, S) #Create the Effecient Frontier Object\n",
    "weights = ef.max_sharpe()\n",
    "\n",
    "cleaned_weights = ef.clean_weights()\n",
    "print(cleaned_weights)\n",
    "ef.portfolio_performance(verbose=True)\n"
   ]
  },
  {
   "cell_type": "code",
   "execution_count": null,
   "metadata": {},
   "outputs": [],
   "source": []
  }
 ]
}