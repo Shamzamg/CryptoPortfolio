{
 "metadata": {
  "language_info": {
   "codemirror_mode": {
    "name": "ipython",
    "version": 3
   },
   "file_extension": ".py",
   "mimetype": "text/x-python",
   "name": "python",
   "nbconvert_exporter": "python",
   "pygments_lexer": "ipython3",
   "version": "3.8.5-final"
  },
  "orig_nbformat": 2,
  "kernelspec": {
   "name": "python3",
   "display_name": "Python 3.8.5 64-bit",
   "metadata": {
    "interpreter": {
     "hash": "2db524e06e9f5f4ffedc911c917cb75e12dbc923643829bf417064a77eb14d37"
    }
   }
  }
 },
 "nbformat": 4,
 "nbformat_minor": 2,
 "cells": [
  {
   "cell_type": "code",
   "execution_count": 199,
   "metadata": {},
   "outputs": [],
   "source": [
    "#Description: This program optimizes a stock portfolio"
   ]
  },
  {
   "cell_type": "code",
   "execution_count": 200,
   "metadata": {},
   "outputs": [],
   "source": [
    "#Import the python librairies\n",
    "import pandas as pd\n",
    "import numpy as np\n",
    "from fastquant.data.crypto.crypto import get_crypto_data"
   ]
  },
  {
   "cell_type": "code",
   "execution_count": 201,
   "metadata": {},
   "outputs": [
    {
     "output_type": "stream",
     "name": "stdout",
     "text": [
      "500\n",
      "            LTC/USDT  BCH/USDT  ETH/USDT  DOT/USDT  ADA/USDT  XRP/USDT  \\\n",
      "dt                                                                       \n",
      "2019-10-05     56.69       NaN    176.25       NaN   0.03967   0.25325   \n",
      "2019-10-06     54.41       NaN    170.10       NaN   0.03881   0.25552   \n",
      "2019-10-07     57.46       NaN    179.85       NaN   0.04136   0.27592   \n",
      "2019-10-08     56.94       NaN    180.60       NaN   0.04120   0.27740   \n",
      "2019-10-09     59.12       NaN    192.62       NaN   0.04238   0.28082   \n",
      "...              ...       ...       ...       ...       ...       ...   \n",
      "2021-02-11    183.62    530.40   1785.62   25.0224   0.92796   0.52806   \n",
      "2021-02-12    196.69    576.43   1840.26   28.6555   0.92426   0.60900   \n",
      "2021-02-13    225.76    668.30   1814.96   27.9364   0.91299   0.63309   \n",
      "2021-02-14    213.49    720.44   1800.42   26.8724   0.84364   0.59211   \n",
      "2021-02-15    213.40    726.67   1809.22   28.0939   0.85813   0.56078   \n",
      "\n",
      "            BNB/USDT  LINK/USDT  \n",
      "dt                               \n",
      "2019-10-05   15.6869     1.9624  \n",
      "2019-10-06   15.0688     2.1669  \n",
      "2019-10-07   16.0255     2.3963  \n",
      "2019-10-08   16.0213     2.5765  \n",
      "2019-10-09   17.7177     2.8011  \n",
      "...              ...        ...  \n",
      "2021-02-11  124.0850    27.8475  \n",
      "2021-02-12  136.6139    30.6265  \n",
      "2021-02-13  133.3496    34.1941  \n",
      "2021-02-14  135.8623    33.1565  \n",
      "2021-02-15  130.7297    33.4205  \n",
      "\n",
      "[500 rows x 8 columns]\n"
     ]
    }
   ],
   "source": [
    "cryptolist = ['LTC/USDT', 'BCH/USDT', 'ETH/USDT', 'DOT/USDT', 'ADA/USDT', 'XRP/USDT', 'BNB/USDT', 'LINK/USDT']\n",
    "begin = '2019-10-05'\n",
    "end = '2021-02-15'\n",
    "param = 'close' #but could be 'open', 'high', 'low' or 'volume'\n",
    "\n",
    "#Get the data from your personal crypto-list and chosen dates\n",
    "\n",
    "def create_data_frame(list, begin, end, param):\n",
    "\n",
    "    dataframe = pd.DataFrame({list[0]: get_crypto_data(list[0], begin, end)[param]})\n",
    "\n",
    "    if(len(list) > 1):\n",
    "        for i in range(1,len(list)):\n",
    "        \n",
    "            dataframe.insert(len(dataframe.columns), list[i], get_crypto_data(list[i], begin, end)[param], True)\n",
    "\n",
    "    return dataframe\n",
    "\n",
    "df = create_data_frame(cryptolist, begin, end, param)\n",
    "print(len(get_crypto_data(cryptolist[0], '2018-01-01', end)))\n",
    "print(df)"
   ]
  },
  {
   "cell_type": "code",
   "execution_count": 202,
   "metadata": {},
   "outputs": [],
   "source": [
    "#Optimize the portfolio\n",
    "from pypfopt.efficient_frontier import EfficientFrontier\n",
    "from pypfopt import risk_models\n",
    "from pypfopt import expected_returns"
   ]
  },
  {
   "cell_type": "code",
   "execution_count": 203,
   "metadata": {},
   "outputs": [],
   "source": [
    "#Calculate the expected annualized returns and the annualized sample covariance matrix of the daily asset returns\n",
    "mu = expected_returns.mean_historical_return(df)\n",
    "S = risk_models.sample_cov(df)\n",
    "\n"
   ]
  },
  {
   "cell_type": "code",
   "execution_count": 204,
   "metadata": {},
   "outputs": [
    {
     "output_type": "stream",
     "name": "stdout",
     "text": [
      "OrderedDict([('LTC/USDT', 0.0), ('BCH/USDT', 0.0), ('ETH/USDT', 0.0), ('DOT/USDT', 1.0), ('ADA/USDT', 0.0), ('XRP/USDT', 0.0), ('BNB/USDT', 0.0), ('LINK/USDT', 0.0)])\n",
      "Expected annual return: 2051.5%\n",
      "Annual volatility: 143.9%\n",
      "Sharpe Ratio: 14.24\n"
     ]
    },
    {
     "output_type": "execute_result",
     "data": {
      "text/plain": [
       "(20.51524656549649, 1.439128192827812, 14.241432186262989)"
      ]
     },
     "metadata": {},
     "execution_count": 204
    }
   ],
   "source": [
    "#Optimize for the maximal Sharpe ratio\n",
    "ef = EfficientFrontier(mu, S) #Create the Effecient Frontier Object\n",
    "weights = ef.max_sharpe()\n",
    "\n",
    "cleaned_weights = ef.clean_weights()\n",
    "print(cleaned_weights)\n",
    "ef.portfolio_performance(verbose=True)\n"
   ]
  },
  {
   "cell_type": "code",
   "execution_count": null,
   "metadata": {},
   "outputs": [],
   "source": []
  }
 ]
}